{
 "cells": [
  {
   "cell_type": "markdown",
   "metadata": {},
   "source": [
    "# Selenium for email\n",
    "\n",
    "I wanted to automate the sending of mass mails.\n",
    "Sicne there is a max. number of recepients per email, I developed this tool to automatically creating copies of drafts and add the recipients as bcc.\n",
    "\n",
    "URLs have been removed for anonymity purposes."
   ]
  },
  {
   "cell_type": "markdown",
   "metadata": {},
   "source": [
    "## 1.1.Imports"
   ]
  },
  {
   "cell_type": "code",
   "execution_count": 1,
   "metadata": {
    "ExecuteTime": {
     "end_time": "2019-02-12T12:55:54.430958Z",
     "start_time": "2019-02-12T12:55:54.238503Z"
    }
   },
   "outputs": [],
   "source": [
    "from selenium import webdriver\n",
    "from time import sleep\n",
    "import getpass"
   ]
  },
  {
   "cell_type": "markdown",
   "metadata": {},
   "source": [
    "## 1.2 Preliminary info"
   ]
  },
  {
   "cell_type": "code",
   "execution_count": 2,
   "metadata": {
    "ExecuteTime": {
     "end_time": "2019-02-12T12:56:00.082035Z",
     "start_time": "2019-02-12T12:55:55.267331Z"
    }
   },
   "outputs": [
    {
     "name": "stdout",
     "output_type": "stream",
     "text": [
      "password········\n"
     ]
    }
   ],
   "source": [
    "driver = None\n",
    "driver = webdriver.Chrome()\n",
    "USER = ''\n",
    "PASSWORD = getpass.getpass(prompt = 'password')\n",
    "# Subject\n",
    "draft_subject =\"Subject\" \n",
    "# Groups of contacts to be included in the mail\n",
    "recipient_groups = [\"1α\" , \"1β\" , \"1γ\" , \"1δ\" ] \n",
    "#                   \"2α\" , \"2β\" , \"2γ\" , \"2δ\" ,\n",
    "#                   \"3α\" , \"3β\" , \"3γ\"] "
   ]
  },
  {
   "cell_type": "markdown",
   "metadata": {},
   "source": [
    "## 1.3 Login function"
   ]
  },
  {
   "cell_type": "markdown",
   "metadata": {},
   "source": [
    "Login to mail"
   ]
  },
  {
   "cell_type": "code",
   "execution_count": 3,
   "metadata": {
    "ExecuteTime": {
     "end_time": "2019-02-12T12:56:01.452361Z",
     "start_time": "2019-02-12T12:56:01.446375Z"
    }
   },
   "outputs": [],
   "source": [
    "def login_mail():\n",
    "    mail_login = 'https://-----.com'\n",
    "    is_logged_in = False\n",
    " \n",
    "    try:\n",
    "        driver.get(mail_login)\n",
    "        sleep(5)\n",
    "        html = driver.page_source.strip()\n",
    " \n",
    "        # email box\n",
    "        user_name = driver.find_element_by_name('id')\n",
    "        if user_name:\n",
    "            user_name.send_keys(USER)\n",
    "        else:\n",
    "            print (\"username field not found\")\n",
    " \n",
    "        next = driver.find_element_by_id('idN')\n",
    "        if next:\n",
    "            next.click()\n",
    " \n",
    "        # give em rest\n",
    "        sleep(5)\n",
    " \n",
    "        # now enter passwd\n",
    "        user_pass = driver.find_element_by_name('pass')\n",
    "        if user_pass:\n",
    "            user_pass.send_keys(PASSWORD)\n",
    "        else:\n",
    "            print (\"password field not found\")\n",
    " \n",
    "        # rest again\n",
    "        sleep(3)\n",
    " \n",
    "        sign_in = driver.find_element_by_id('passN')\n",
    "        if sign_in:\n",
    "            sign_in.click()\n",
    " \n",
    "        # rest again\n",
    "        sleep(3)\n",
    "        html = driver.page_source.strip()\n",
    "        is_logged_in = True\n",
    " \n",
    "    except Exception as ex:\n",
    "        print(str(ex))\n",
    "        is_logged_in = False\n",
    "    finally:\n",
    "        print (\"login completed\")"
   ]
  },
  {
   "cell_type": "markdown",
   "metadata": {},
   "source": [
    "## 1.4 Mail"
   ]
  },
  {
   "cell_type": "markdown",
   "metadata": {},
   "source": [
    "Find the draft with the subject we want. This is a mail with the wording and attachments prepared. We will send it to ourselves, and then use the sent email to create more copies to send to each group of contacts."
   ]
  },
  {
   "cell_type": "code",
   "execution_count": 4,
   "metadata": {
    "ExecuteTime": {
     "end_time": "2019-02-12T12:56:02.830629Z",
     "start_time": "2019-02-12T12:56:02.823683Z"
    }
   },
   "outputs": [],
   "source": [
    "def mail_create_sent():\n",
    "        driver.get('https://-----.com')\n",
    "        sleep(3)\n",
    "        \n",
    "        # Go to drafts\n",
    "        driver.get('https://----/drafts')\n",
    "        sleep(5)\n",
    "        drafts = driver.find_elements_by_class_name('bog')\n",
    "        \n",
    "        # Find draft and send it to self\n",
    "        for draft in drafts:\n",
    "            if draft.text == draft_subject:\n",
    "                draft.click()\n",
    "                sleep(2)\n",
    "                to = draft.find_element_by_xpath('//text[1]')\n",
    "                to.send_keys('---@----.com')\n",
    "                break\n",
    "                \n",
    "        sleep(2)\n",
    "        send = draft.find_element_by_xpath(\"//div[text()='Send']\")       \n",
    "        send.click()\n",
    "        \n",
    "        print('sent mail created')\n",
    "        \n",
    "\n"
   ]
  },
  {
   "cell_type": "markdown",
   "metadata": {},
   "source": [
    "From the sent email, we will create more drafts by:\n",
    "* Clicking \"forward\"\n",
    "* Editing the subject to remove the \"Fw\"\n",
    "* Editing the extra signature out\n",
    "* Adding the contact group\n",
    "* Sending the mail"
   ]
  },
  {
   "cell_type": "code",
   "execution_count": 5,
   "metadata": {
    "ExecuteTime": {
     "end_time": "2019-02-12T12:56:26.904751Z",
     "start_time": "2019-02-12T12:56:26.888795Z"
    }
   },
   "outputs": [],
   "source": [
    "def mail_create_drafts(draft_subject,recipient_group):\n",
    "        driver.get('https://------')\n",
    "        sleep(3)\n",
    "\n",
    "        # Go to sent\n",
    "        driver.get('https://-------')\n",
    "        sleep(5)\n",
    "        sents = driver.find_elements_by_class_name('bog')\n",
    "        \n",
    "        # open message\n",
    "        for sent in sents:\n",
    "            if sent.text == draft_subject:\n",
    "                mail = sent.click()\n",
    "                sleep(1)\n",
    "                break\n",
    "                \n",
    "        # forward - edit subject             \n",
    "        sleep(10)\n",
    "        # click 3 dots\n",
    "        button2 = driver.find_element_by_css_selector('.T-I.J-Ji.T-Gs.aap.T-I-awG.T-I.L3')\n",
    "        button2.click()\n",
    "        sleep(3)\n",
    "        # click \"forward\"\n",
    "        button3 = driver.find_element_by_css_selector('.mI.f4.J-N')\n",
    "        button3.click()\n",
    "        # click little arrow\n",
    "        sleep (3)\n",
    "        button4 = driver.find_element_by_css_selector('.J-JN.J-Ji.Un.L3')\n",
    "        button4.click()\n",
    "\n",
    "        # click \"edit subject\"\n",
    "        sleep(3)\n",
    "        menuitems = driver.find_elements_by_xpath(\"//*[@role='menuitem']\")\n",
    "        for button in menuitems:\n",
    "            if button.text == 'Edit subject':\n",
    "                button.click()\n",
    "                break\n",
    "        sleep(3)\n",
    "\n",
    "         # find main text and delete additional data\n",
    "        textbox = driver.find_element_by_css_selector('.Am.Al.editable.LW-avf')\n",
    "        textbox.send_keys((308 + len(draft_subject))*u'\\ue017')\n",
    "        sleep(2)\n",
    "        \n",
    "        # change subject\n",
    "        subjectbox = driver.find_element_by_name('subject')\n",
    "        subjectbox.send_keys((5+len(draft_subject))*'\\ue003')\n",
    "        sleep(1)\n",
    "        subjectbox.send_keys(draft_subject)\n",
    "        \n",
    "        #get bcc field\n",
    "        recipients = driver.find_element_by_css_selector('.oL')\n",
    "        recipients.click()\n",
    "        sleep(3)\n",
    "        bcc = driver.find_element_by_css_selector('.aB.pB')\n",
    "        bcc.click()\n",
    "        sleep(2)\n",
    "        \n",
    "        #add contact group\n",
    "        recipients = driver.find_element_by_name('bcc')\n",
    "        recipients.send_keys(recipient_group)\n",
    "        sleep(2)\n",
    "        recipients.send_keys('\\ue007')\n",
    "        sleep(10)\n",
    "        \n",
    "        # Pause to send\n",
    "        input(\"Press Enter to continue...\")\n",
    "        \n",
    "        print ('Contact group ', recipient_group, ' added')"
   ]
  },
  {
   "cell_type": "code",
   "execution_count": null,
   "metadata": {},
   "outputs": [],
   "source": []
  },
  {
   "cell_type": "markdown",
   "metadata": {},
   "source": [
    "## 1.4 run"
   ]
  },
  {
   "cell_type": "markdown",
   "metadata": {},
   "source": [
    "And now we can run our code."
   ]
  },
  {
   "cell_type": "code",
   "execution_count": 6,
   "metadata": {
    "ExecuteTime": {
     "end_time": "2019-02-12T12:56:51.374938Z",
     "start_time": "2019-02-12T12:56:31.911421Z"
    }
   },
   "outputs": [
    {
     "name": "stdout",
     "output_type": "stream",
     "text": [
      "login completed\n"
     ]
    }
   ],
   "source": [
    "login_mail()"
   ]
  },
  {
   "cell_type": "code",
   "execution_count": 11,
   "metadata": {
    "ExecuteTime": {
     "end_time": "2019-02-12T11:00:39.930538Z",
     "start_time": "2019-02-12T11:00:29.112973Z"
    },
    "collapsed": true,
    "jupyter": {
     "outputs_hidden": true
    }
   },
   "outputs": [
    {
     "ename": "KeyboardInterrupt",
     "evalue": "",
     "output_type": "error",
     "traceback": [
      "\u001b[1;31m---------------------------------------------------------------------------\u001b[0m",
      "\u001b[1;31mKeyboardInterrupt\u001b[0m                         Traceback (most recent call last)",
      "\u001b[1;32m<ipython-input-11-9dcf337c2959>\u001b[0m in \u001b[0;36m<module>\u001b[1;34m()\u001b[0m\n\u001b[1;32m----> 1\u001b[1;33m \u001b[0mgmail_create_sent\u001b[0m\u001b[1;33m(\u001b[0m\u001b[1;33m)\u001b[0m\u001b[1;33m\u001b[0m\u001b[0m\n\u001b[0m",
      "\u001b[1;32m<ipython-input-9-a6fc7a2ae4d8>\u001b[0m in \u001b[0;36mgmail_create_sent\u001b[1;34m()\u001b[0m\n\u001b[0;32m      5\u001b[0m         \u001b[1;31m# Go to drafts\u001b[0m\u001b[1;33m\u001b[0m\u001b[1;33m\u001b[0m\u001b[0m\n\u001b[0;32m      6\u001b[0m         \u001b[0mdriver\u001b[0m\u001b[1;33m.\u001b[0m\u001b[0mget\u001b[0m\u001b[1;33m(\u001b[0m\u001b[1;34m'https://mail.google.com/mail/u/0/#drafts'\u001b[0m\u001b[1;33m)\u001b[0m\u001b[1;33m\u001b[0m\u001b[0m\n\u001b[1;32m----> 7\u001b[1;33m         \u001b[0msleep\u001b[0m\u001b[1;33m(\u001b[0m\u001b[1;36m5\u001b[0m\u001b[1;33m)\u001b[0m\u001b[1;33m\u001b[0m\u001b[0m\n\u001b[0m\u001b[0;32m      8\u001b[0m         \u001b[0mdrafts\u001b[0m \u001b[1;33m=\u001b[0m \u001b[0mdriver\u001b[0m\u001b[1;33m.\u001b[0m\u001b[0mfind_elements_by_class_name\u001b[0m\u001b[1;33m(\u001b[0m\u001b[1;34m'bog'\u001b[0m\u001b[1;33m)\u001b[0m\u001b[1;33m\u001b[0m\u001b[0m\n\u001b[0;32m      9\u001b[0m \u001b[1;33m\u001b[0m\u001b[0m\n",
      "\u001b[1;31mKeyboardInterrupt\u001b[0m: "
     ]
    }
   ],
   "source": [
    "mail_create_sent()"
   ]
  },
  {
   "cell_type": "code",
   "execution_count": null,
   "metadata": {
    "ExecuteTime": {
     "start_time": "2019-02-12T12:56:56.390Z"
    }
   },
   "outputs": [
    {
     "name": "stdout",
     "output_type": "stream",
     "text": [
      "Press Enter to continue...\n",
      "Contact group  1α  added\n",
      "Press Enter to continue...\n",
      "Contact group  1β  added\n",
      "Press Enter to continue...\n",
      "Contact group  1γ  added\n"
     ]
    }
   ],
   "source": [
    "for recipient_group in recipient_groups:\n",
    "    mail_create_drafts(draft_subject,recipient_group)"
   ]
  },
  {
   "cell_type": "code",
   "execution_count": null,
   "metadata": {},
   "outputs": [],
   "source": [
    " "
   ]
  }
 ],
 "metadata": {
  "kernelspec": {
   "display_name": "Python 3",
   "language": "python",
   "name": "python3"
  },
  "language_info": {
   "codemirror_mode": {
    "name": "ipython",
    "version": 3
   },
   "file_extension": ".py",
   "mimetype": "text/x-python",
   "name": "python",
   "nbconvert_exporter": "python",
   "pygments_lexer": "ipython3",
   "version": "3.7.7"
  },
  "varInspector": {
   "cols": {
    "lenName": 16,
    "lenType": 16,
    "lenVar": 40
   },
   "kernels_config": {
    "python": {
     "delete_cmd_postfix": "",
     "delete_cmd_prefix": "del ",
     "library": "var_list.py",
     "varRefreshCmd": "print(var_dic_list())"
    },
    "r": {
     "delete_cmd_postfix": ") ",
     "delete_cmd_prefix": "rm(",
     "library": "var_list.r",
     "varRefreshCmd": "cat(var_dic_list()) "
    }
   },
   "position": {
    "height": "374.867px",
    "left": "1083px",
    "right": "103px",
    "top": "114px",
    "width": "350px"
   },
   "types_to_exclude": [
    "module",
    "function",
    "builtin_function_or_method",
    "instance",
    "_Feature"
   ],
   "window_display": false
  }
 },
 "nbformat": 4,
 "nbformat_minor": 4
}
