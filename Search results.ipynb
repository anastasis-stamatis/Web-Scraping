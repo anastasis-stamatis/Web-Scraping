{
 "cells": [
  {
   "cell_type": "markdown",
   "metadata": {},
   "source": [
    "# Search results scraping"
   ]
  },
  {
   "cell_type": "markdown",
   "metadata": {},
   "source": [
    "Getting the first few search results for a topic. Links have been changed for anonymity purposes."
   ]
  },
  {
   "cell_type": "markdown",
   "metadata": {},
   "source": [
    "# Import"
   ]
  },
  {
   "cell_type": "code",
   "execution_count": 1,
   "metadata": {},
   "outputs": [],
   "source": [
    "import pandas as pd\n",
    "import numpy as np\n",
    "import time\n",
    "from selenium.webdriver.common.keys import Keys\n",
    "import re\n",
    "\n",
    "# Pandas display options\n",
    "pd.set_option('display.max_columns',6000)\n",
    "pd.set_option('display.max_rows',6000)\n",
    "\n",
    "# show all outputs\n",
    "from IPython.core.interactiveshell import InteractiveShell\n",
    "InteractiveShell.ast_node_interactivity = \"all\""
   ]
  },
  {
   "cell_type": "code",
   "execution_count": 2,
   "metadata": {},
   "outputs": [],
   "source": [
    "def add_data_from_search_element(el):\n",
    "    \"\"\"Add data from  search element.\n",
    "    \n",
    "    el: element.\"\"\"\n",
    "    \n",
    "    out_dict = dict(Title = el.find_element_by_class_name('st').text,\n",
    "            Website = el.find_elements_by_class_name(\"iUh30\")[0].text,\n",
    "            Full_URL = el.find_elements_by_class_name(\"r [href]\")[0].get_attribute('href'))\n",
    "    try:\n",
    "        out_dict['Date'] = el.find_element_by_class_name(\"f\").text\n",
    "    except:\n",
    "        out_dict['Date'] = ''\n",
    "\n",
    "    return out_dict"
   ]
  },
  {
   "cell_type": "code",
   "execution_count": 3,
   "metadata": {},
   "outputs": [],
   "source": [
    "from selenium import webdriver\n",
    "driver = webdriver.Chrome()\n",
    "driver.get(\"https://search.gr\")"
   ]
  },
  {
   "cell_type": "code",
   "execution_count": 4,
   "metadata": {},
   "outputs": [],
   "source": [
    "## Choose and indicative phrase to search\n",
    "phrase = '\"οι καταναλωτές μπορούν να αναζητήσουν το αγαπημένο τους κατάστημα, να ανακαλύψουν τις ειδικά διαμορφωμένες προσφορές της Coca-Cola\"'"
   ]
  },
  {
   "cell_type": "markdown",
   "metadata": {},
   "source": [
    "# Conduct search"
   ]
  },
  {
   "cell_type": "markdown",
   "metadata": {},
   "source": [
    "https://selenium-python.readthedocs.io/locating-elements.html"
   ]
  },
  {
   "cell_type": "code",
   "execution_count": 5,
   "metadata": {},
   "outputs": [],
   "source": [
    "el = driver.find_element_by_class_name('gf.gfi')"
   ]
  },
  {
   "cell_type": "code",
   "execution_count": 6,
   "metadata": {},
   "outputs": [],
   "source": [
    "el.send_keys(phrase)\n",
    "time.sleep(3)\n",
    "el.send_keys(Keys.RETURN)\n",
    "time.sleep(3)"
   ]
  },
  {
   "cell_type": "markdown",
   "metadata": {},
   "source": [
    "# Find Elements from the publications\n",
    "* Find all element titles (class name = LC20lb)\n",
    "* Find all element URLS\n",
    "* Find all element dates (if appicable)"
   ]
  },
  {
   "cell_type": "markdown",
   "metadata": {},
   "source": [
    "Load all results (including similar ones). Then loop through the first 2 pages to get the results."
   ]
  },
  {
   "cell_type": "code",
   "execution_count": 8,
   "metadata": {},
   "outputs": [],
   "source": [
    "els = driver.find_elements_by_class_name('card-section')\n",
    "els[0].find_element_by_partial_link_text('omitted results').click()\n",
    "time.sleep(3)\n",
    "\n",
    "elements_list = []\n",
    "\n",
    "for i in range(0,2):        \n",
    "    elements = driver.find_elements_by_class_name('g')\n",
    "    el_list_i = [add_data_from_search_element(el)for el in elements]\n",
    "\n",
    "    elements_list += el_list_i\n",
    "\n",
    "\n",
    "    #find the links for the next page\n",
    "    driver.find_elements_by_class_name(\"S1aj.bCSr\")[-1].click()\n",
    "    time.sleep(3)"
   ]
  },
  {
   "cell_type": "markdown",
   "metadata": {},
   "source": [
    "# Preprocess data"
   ]
  },
  {
   "cell_type": "markdown",
   "metadata": {},
   "source": [
    "Bring the data in a readable format."
   ]
  },
  {
   "cell_type": "markdown",
   "metadata": {},
   "source": [
    "## Make series"
   ]
  },
  {
   "cell_type": "code",
   "execution_count": 9,
   "metadata": {},
   "outputs": [],
   "source": [
    "publications = pd.Series(elements_list)"
   ]
  },
  {
   "cell_type": "code",
   "execution_count": 10,
   "metadata": {},
   "outputs": [],
   "source": [
    "publications = publications.apply(lambda x: pd.Series(x))"
   ]
  },
  {
   "cell_type": "code",
   "execution_count": 11,
   "metadata": {},
   "outputs": [],
   "source": [
    "publications['Website'] = publications['Website'].apply(lambda x: re.split(' › ',x)[0])"
   ]
  },
  {
   "cell_type": "code",
   "execution_count": 12,
   "metadata": {},
   "outputs": [
    {
     "data": {
      "text/plain": [
       "(20, 4)"
      ]
     },
     "execution_count": 12,
     "metadata": {},
     "output_type": "execute_result"
    }
   ],
   "source": [
    "publications.shape"
   ]
  },
  {
   "cell_type": "markdown",
   "metadata": {},
   "source": [
    "## Drop duplicate links"
   ]
  },
  {
   "cell_type": "code",
   "execution_count": 13,
   "metadata": {},
   "outputs": [],
   "source": [
    "publications.drop_duplicates(subset = ['Full_URL'],inplace=True)"
   ]
  },
  {
   "cell_type": "code",
   "execution_count": 14,
   "metadata": {},
   "outputs": [
    {
     "data": {
      "text/plain": [
       "(20, 4)"
      ]
     },
     "execution_count": 14,
     "metadata": {},
     "output_type": "execute_result"
    }
   ],
   "source": [
    "publications.shape"
   ]
  },
  {
   "cell_type": "markdown",
   "metadata": {},
   "source": [
    "## Check which come from facebook"
   ]
  },
  {
   "cell_type": "code",
   "execution_count": 15,
   "metadata": {},
   "outputs": [],
   "source": [
    "publications['Facebook'] = publications['Website'].str.contains('facebook')"
   ]
  },
  {
   "cell_type": "markdown",
   "metadata": {},
   "source": [
    "## Get publication date"
   ]
  },
  {
   "cell_type": "code",
   "execution_count": 16,
   "metadata": {},
   "outputs": [],
   "source": [
    "publications.loc[publications['Date'].str.contains('Rating'),'Date'] = ''"
   ]
  },
  {
   "cell_type": "code",
   "execution_count": 17,
   "metadata": {},
   "outputs": [],
   "source": [
    "from datetime import datetime, date, timedelta"
   ]
  },
  {
   "cell_type": "code",
   "execution_count": 18,
   "metadata": {},
   "outputs": [],
   "source": [
    "publications.loc[publications['Date'].str.contains('days'),'Date'] =\\\n",
    "            publications.loc[publications['Date'].str.contains('days'),'Date'].apply(lambda x: (date.today() - \\\n",
    "                                                                         timedelta(int(re.split(' days',x)[0]))).\\\n",
    "                                                                         strftime('%b %d, %Y'))"
   ]
  },
  {
   "cell_type": "code",
   "execution_count": 19,
   "metadata": {},
   "outputs": [],
   "source": [
    "publications['Date'] = publications['Date'].replace('',np.nan)"
   ]
  },
  {
   "cell_type": "code",
   "execution_count": 20,
   "metadata": {},
   "outputs": [],
   "source": [
    "for i in publications.index:\n",
    "    try:\n",
    "        publications.loc[i,'Date'] = datetime.strptime(re.sub(' -','',publications.loc[i,'Date']),'%b %d, %Y')\n",
    "    except:\n",
    "        continue"
   ]
  },
  {
   "cell_type": "markdown",
   "metadata": {},
   "source": [
    "## Write to file"
   ]
  },
  {
   "cell_type": "code",
   "execution_count": 21,
   "metadata": {},
   "outputs": [
    {
     "data": {
      "text/html": [
       "<div>\n",
       "<style scoped>\n",
       "    .dataframe tbody tr th:only-of-type {\n",
       "        vertical-align: middle;\n",
       "    }\n",
       "\n",
       "    .dataframe tbody tr th {\n",
       "        vertical-align: top;\n",
       "    }\n",
       "\n",
       "    .dataframe thead th {\n",
       "        text-align: right;\n",
       "    }\n",
       "</style>\n",
       "<table border=\"1\" class=\"dataframe\">\n",
       "  <thead>\n",
       "    <tr style=\"text-align: right;\">\n",
       "      <th></th>\n",
       "      <th>Title</th>\n",
       "      <th>Website</th>\n",
       "      <th>Full_URL</th>\n",
       "      <th>Date</th>\n",
       "      <th>Facebook</th>\n",
       "    </tr>\n",
       "  </thead>\n",
       "  <tbody>\n",
       "    <tr>\n",
       "      <th>0</th>\n",
       "      <td>Jul 11, 2020 - ... οι καταναλωτές μπορούν να α...</td>\n",
       "      <td>grillmagazine.gr</td>\n",
       "      <td>https://grillmagazine.gr/2020/07/12/%CE%B7-coc...</td>\n",
       "      <td>2020-07-11 00:00:00</td>\n",
       "      <td>False</td>\n",
       "    </tr>\n",
       "    <tr>\n",
       "      <th>1</th>\n",
       "      <td>Jul 8, 2020 - ... οι καταναλωτές μπορούν να αν...</td>\n",
       "      <td>www.liberal.gr</td>\n",
       "      <td>https://www.liberal.gr/economy/i-coca-colatria...</td>\n",
       "      <td>2020-07-08 00:00:00</td>\n",
       "      <td>False</td>\n",
       "    </tr>\n",
       "    <tr>\n",
       "      <th>2</th>\n",
       "      <td>Jul 9, 2020 - ... οι καταναλωτές μπορούν να αν...</td>\n",
       "      <td>www.forin.gr</td>\n",
       "      <td>https://www.forin.gr/articles/article/36249/co...</td>\n",
       "      <td>2020-07-09 00:00:00</td>\n",
       "      <td>False</td>\n",
       "    </tr>\n",
       "    <tr>\n",
       "      <th>3</th>\n",
       "      <td>Jul 8, 2020 - ... οι καταναλωτές μπορούν να αν...</td>\n",
       "      <td>www.documentonews.gr</td>\n",
       "      <td>https://www.documentonews.gr/article/h-coca-co...</td>\n",
       "      <td>2020-07-08 00:00:00</td>\n",
       "      <td>False</td>\n",
       "    </tr>\n",
       "    <tr>\n",
       "      <th>4</th>\n",
       "      <td>Jul 9, 2020 - ... οι καταναλωτές μπορούν να αν...</td>\n",
       "      <td>www.newmoney.gr</td>\n",
       "      <td>https://www.newmoney.gr/roh/palmos-oikonomias/...</td>\n",
       "      <td>2020-07-09 00:00:00</td>\n",
       "      <td>False</td>\n",
       "    </tr>\n",
       "  </tbody>\n",
       "</table>\n",
       "</div>"
      ],
      "text/plain": [
       "                                               Title               Website  \\\n",
       "0  Jul 11, 2020 - ... οι καταναλωτές μπορούν να α...      grillmagazine.gr   \n",
       "1  Jul 8, 2020 - ... οι καταναλωτές μπορούν να αν...        www.liberal.gr   \n",
       "2  Jul 9, 2020 - ... οι καταναλωτές μπορούν να αν...          www.forin.gr   \n",
       "3  Jul 8, 2020 - ... οι καταναλωτές μπορούν να αν...  www.documentonews.gr   \n",
       "4  Jul 9, 2020 - ... οι καταναλωτές μπορούν να αν...       www.newmoney.gr   \n",
       "\n",
       "                                            Full_URL                 Date  \\\n",
       "0  https://grillmagazine.gr/2020/07/12/%CE%B7-coc...  2020-07-11 00:00:00   \n",
       "1  https://www.liberal.gr/economy/i-coca-colatria...  2020-07-08 00:00:00   \n",
       "2  https://www.forin.gr/articles/article/36249/co...  2020-07-09 00:00:00   \n",
       "3  https://www.documentonews.gr/article/h-coca-co...  2020-07-08 00:00:00   \n",
       "4  https://www.newmoney.gr/roh/palmos-oikonomias/...  2020-07-09 00:00:00   \n",
       "\n",
       "   Facebook  \n",
       "0     False  \n",
       "1     False  \n",
       "2     False  \n",
       "3     False  \n",
       "4     False  "
      ]
     },
     "execution_count": 21,
     "metadata": {},
     "output_type": "execute_result"
    }
   ],
   "source": [
    "publications.head()"
   ]
  },
  {
   "cell_type": "code",
   "execution_count": 21,
   "metadata": {},
   "outputs": [],
   "source": [
    "publications.to_excel('Publications.xlsx')"
   ]
  }
 ],
 "metadata": {
  "kernelspec": {
   "display_name": "Python 3",
   "language": "python",
   "name": "python3"
  },
  "language_info": {
   "codemirror_mode": {
    "name": "ipython",
    "version": 3
   },
   "file_extension": ".py",
   "mimetype": "text/x-python",
   "name": "python",
   "nbconvert_exporter": "python",
   "pygments_lexer": "ipython3",
   "version": "3.7.7"
  }
 },
 "nbformat": 4,
 "nbformat_minor": 4
}
